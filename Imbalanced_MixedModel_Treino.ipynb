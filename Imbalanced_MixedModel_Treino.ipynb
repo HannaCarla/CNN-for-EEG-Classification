{
  "nbformat": 4,
  "nbformat_minor": 0,
  "metadata": {
    "colab": {
      "provenance": [],
      "gpuType": "T4",
      "include_colab_link": true
    },
    "kernelspec": {
      "name": "python3",
      "display_name": "Python 3"
    },
    "language_info": {
      "name": "python"
    },
    "accelerator": "GPU"
  },
  "cells": [
    {
      "cell_type": "markdown",
      "metadata": {
        "id": "view-in-github",
        "colab_type": "text"
      },
      "source": [
        "<a href=\"https://colab.research.google.com/github/HannaCarla/CNN-for-EEG-Classification/blob/main/Imbalanced_MixedModel_Treino.ipynb\" target=\"_parent\"><img src=\"https://colab.research.google.com/assets/colab-badge.svg\" alt=\"Open In Colab\"/></a>"
      ]
    },
    {
      "cell_type": "code",
      "execution_count": 2,
      "metadata": {
        "colab": {
          "base_uri": "https://localhost:8080/"
        },
        "id": "-9SoPYHC_HCE",
        "outputId": "25c7d676-389f-4aff-84ee-9c2a73360d59"
      },
      "outputs": [
        {
          "output_type": "stream",
          "name": "stdout",
          "text": [
            "Requirement already satisfied: mne in /usr/local/lib/python3.10/dist-packages (1.4.2)\n",
            "Requirement already satisfied: numpy>=1.15.4 in /usr/local/lib/python3.10/dist-packages (from mne) (1.22.4)\n",
            "Requirement already satisfied: scipy>=1.6.3 in /usr/local/lib/python3.10/dist-packages (from mne) (1.10.1)\n",
            "Requirement already satisfied: matplotlib>=3.4.0 in /usr/local/lib/python3.10/dist-packages (from mne) (3.7.1)\n",
            "Requirement already satisfied: tqdm in /usr/local/lib/python3.10/dist-packages (from mne) (4.65.0)\n",
            "Requirement already satisfied: pooch>=1.5 in /usr/local/lib/python3.10/dist-packages (from mne) (1.6.0)\n",
            "Requirement already satisfied: decorator in /usr/local/lib/python3.10/dist-packages (from mne) (4.4.2)\n",
            "Requirement already satisfied: packaging in /usr/local/lib/python3.10/dist-packages (from mne) (23.1)\n",
            "Requirement already satisfied: jinja2 in /usr/local/lib/python3.10/dist-packages (from mne) (3.1.2)\n",
            "Requirement already satisfied: contourpy>=1.0.1 in /usr/local/lib/python3.10/dist-packages (from matplotlib>=3.4.0->mne) (1.1.0)\n",
            "Requirement already satisfied: cycler>=0.10 in /usr/local/lib/python3.10/dist-packages (from matplotlib>=3.4.0->mne) (0.11.0)\n",
            "Requirement already satisfied: fonttools>=4.22.0 in /usr/local/lib/python3.10/dist-packages (from matplotlib>=3.4.0->mne) (4.40.0)\n",
            "Requirement already satisfied: kiwisolver>=1.0.1 in /usr/local/lib/python3.10/dist-packages (from matplotlib>=3.4.0->mne) (1.4.4)\n",
            "Requirement already satisfied: pillow>=6.2.0 in /usr/local/lib/python3.10/dist-packages (from matplotlib>=3.4.0->mne) (8.4.0)\n",
            "Requirement already satisfied: pyparsing>=2.3.1 in /usr/local/lib/python3.10/dist-packages (from matplotlib>=3.4.0->mne) (3.1.0)\n",
            "Requirement already satisfied: python-dateutil>=2.7 in /usr/local/lib/python3.10/dist-packages (from matplotlib>=3.4.0->mne) (2.8.2)\n",
            "Requirement already satisfied: appdirs>=1.3.0 in /usr/local/lib/python3.10/dist-packages (from pooch>=1.5->mne) (1.4.4)\n",
            "Requirement already satisfied: requests>=2.19.0 in /usr/local/lib/python3.10/dist-packages (from pooch>=1.5->mne) (2.27.1)\n",
            "Requirement already satisfied: MarkupSafe>=2.0 in /usr/local/lib/python3.10/dist-packages (from jinja2->mne) (2.1.3)\n",
            "Requirement already satisfied: six>=1.5 in /usr/local/lib/python3.10/dist-packages (from python-dateutil>=2.7->matplotlib>=3.4.0->mne) (1.16.0)\n",
            "Requirement already satisfied: urllib3<1.27,>=1.21.1 in /usr/local/lib/python3.10/dist-packages (from requests>=2.19.0->pooch>=1.5->mne) (1.26.16)\n",
            "Requirement already satisfied: certifi>=2017.4.17 in /usr/local/lib/python3.10/dist-packages (from requests>=2.19.0->pooch>=1.5->mne) (2023.5.7)\n",
            "Requirement already satisfied: charset-normalizer~=2.0.0 in /usr/local/lib/python3.10/dist-packages (from requests>=2.19.0->pooch>=1.5->mne) (2.0.12)\n",
            "Requirement already satisfied: idna<4,>=2.5 in /usr/local/lib/python3.10/dist-packages (from requests>=2.19.0->pooch>=1.5->mne) (3.4)\n"
          ]
        }
      ],
      "source": [
        "!pip install mne"
      ]
    },
    {
      "cell_type": "code",
      "execution_count": 3,
      "metadata": {
        "id": "y45a34oKhU0-"
      },
      "outputs": [],
      "source": [
        "import mne\n",
        "import tensorflow as tf\n",
        "import pandas as pd\n",
        "import numpy as np\n",
        "import matplotlib.pyplot as plt\n",
        "from glob import glob\n",
        "from sklearn.metrics import confusion_matrix, classification_report\n",
        "from sklearn.model_selection import train_test_split\n",
        "from keras.models import Sequential\n",
        "from keras.layers import Conv1D, MaxPooling2D, Flatten, Dense\n",
        "\n"
      ]
    },
    {
      "cell_type": "code",
      "execution_count": 4,
      "metadata": {
        "id": "6lX2BHTSoLO6"
      },
      "outputs": [],
      "source": [
        "iir_params=dict(order=2, ftype='butter')"
      ]
    },
    {
      "cell_type": "code",
      "source": [
        "dataframes = []"
      ],
      "metadata": {
        "id": "JcGCrmIg57q4"
      },
      "execution_count": 5,
      "outputs": []
    },
    {
      "cell_type": "markdown",
      "source": [
        "## Processamento dos dados"
      ],
      "metadata": {
        "id": "vTGg0wnxFDLV"
      }
    },
    {
      "cell_type": "code",
      "source": [
        "from google.colab import drive\n",
        "drive.mount('/content/drive', force_remount=True)"
      ],
      "metadata": {
        "colab": {
          "base_uri": "https://localhost:8080/"
        },
        "id": "QO1VCxOtFHVx",
        "outputId": "e1e37d66-73fd-4647-e34e-b6dbffefac61"
      },
      "execution_count": 6,
      "outputs": [
        {
          "output_type": "stream",
          "name": "stdout",
          "text": [
            "Mounted at /content/drive\n"
          ]
        }
      ]
    },
    {
      "cell_type": "code",
      "source": [
        "#read all file\n",
        "all_files_path=glob('/content/drive/MyDrive/Hanna/Mix_Pacientes/imb_mixed_model_files/*.edf')\n",
        "print((all_files_path))"
      ],
      "metadata": {
        "colab": {
          "base_uri": "https://localhost:8080/"
        },
        "id": "2wzcHCDDy2-G",
        "outputId": "f1addb2b-d38e-4d58-c1cf-aaebf4ee5514"
      },
      "execution_count": 7,
      "outputs": [
        {
          "output_type": "stream",
          "name": "stdout",
          "text": [
            "['/content/drive/MyDrive/Hanna/Mix_Pacientes/imb_mixed_model_files/chb01_26.edf', '/content/drive/MyDrive/Hanna/Mix_Pacientes/imb_mixed_model_files/chb05_17.edf', '/content/drive/MyDrive/Hanna/Mix_Pacientes/imb_mixed_model_files/chb11_99.edf', '/content/drive/MyDrive/Hanna/Mix_Pacientes/imb_mixed_model_files/chb08_21.edf', '/content/drive/MyDrive/Hanna/Mix_Pacientes/imb_mixed_model_files/chb03_03.edf']\n"
          ]
        }
      ]
    },
    {
      "cell_type": "code",
      "execution_count": 8,
      "metadata": {
        "id": "onMP56AroLO6"
      },
      "outputs": [],
      "source": [
        "def preprocessing(file_path):\n",
        "    datax=mne.io.read_raw_edf(file_path,preload=True)\n",
        "    datax.set_eeg_reference()\n",
        "    datax.filter(1., None)\n",
        "    #datax.apply_function (lambda x: x * 1e-6)\n",
        "    datax.pick_channels(['F3-C3','C3-P3', 'F4-C4','C4-P4' ])\n",
        "    datax.filter(None, h_freq=40.0, method='iir', iir_params=iir_params, verbose=True)\n",
        "    epochs=mne.make_fixed_length_epochs(datax,duration=4)\n",
        "    epochs=epochs.to_data_frame()\n",
        "    return epochs"
      ]
    },
    {
      "cell_type": "code",
      "source": [
        "data=[preprocessing(subject) for subject in all_files_path]"
      ],
      "metadata": {
        "colab": {
          "base_uri": "https://localhost:8080/"
        },
        "outputId": "a909df26-5a0d-460f-9acc-8f0197bce9b7",
        "id": "2GXzPa9cDIQF"
      },
      "execution_count": 9,
      "outputs": [
        {
          "output_type": "stream",
          "name": "stdout",
          "text": [
            "Extracting EDF parameters from /content/drive/MyDrive/Hanna/Mix_Pacientes/imb_mixed_model_files/chb01_26.edf...\n",
            "EDF file detected\n",
            "Setting channel info structure...\n",
            "Creating raw.info structure...\n"
          ]
        },
        {
          "output_type": "stream",
          "name": "stderr",
          "text": [
            "<ipython-input-8-563db69d2c10>:2: RuntimeWarning: Channel names are not unique, found duplicates for: {'T8-P8'}. Applying running numbers for duplicates.\n",
            "  datax=mne.io.read_raw_edf(file_path,preload=True)\n"
          ]
        },
        {
          "output_type": "stream",
          "name": "stdout",
          "text": [
            "Reading 0 ... 595199  =      0.000 ...  2324.996 secs...\n",
            "EEG channel type selected for re-referencing\n",
            "Applying average reference.\n",
            "Applying a custom ('EEG',) reference.\n",
            "Filtering raw data in 1 contiguous segment\n",
            "Setting up high-pass filter at 1 Hz\n",
            "\n",
            "FIR filter parameters\n",
            "---------------------\n",
            "Designing a one-pass, zero-phase, non-causal highpass filter:\n",
            "- Windowed time-domain design (firwin) method\n",
            "- Hamming window with 0.0194 passband ripple and 53 dB stopband attenuation\n",
            "- Lower passband edge: 1.00\n",
            "- Lower transition bandwidth: 1.00 Hz (-6 dB cutoff frequency: 0.50 Hz)\n",
            "- Filter length: 845 samples (3.301 s)\n",
            "\n"
          ]
        },
        {
          "output_type": "stream",
          "name": "stderr",
          "text": [
            "[Parallel(n_jobs=1)]: Using backend SequentialBackend with 1 concurrent workers.\n",
            "[Parallel(n_jobs=1)]: Done   1 out of   1 | elapsed:    0.0s remaining:    0.0s\n",
            "[Parallel(n_jobs=1)]: Done   2 out of   2 | elapsed:    0.1s remaining:    0.0s\n",
            "[Parallel(n_jobs=1)]: Done   3 out of   3 | elapsed:    0.1s remaining:    0.0s\n",
            "[Parallel(n_jobs=1)]: Done   4 out of   4 | elapsed:    0.1s remaining:    0.0s\n"
          ]
        },
        {
          "output_type": "stream",
          "name": "stdout",
          "text": [
            "NOTE: pick_channels() is a legacy function. New code should use inst.pick(...).\n",
            "Filtering raw data in 1 contiguous segment\n",
            "Setting up low-pass filter at 40 Hz\n",
            "\n",
            "IIR filter parameters\n",
            "---------------------\n",
            "Butterworth lowpass zero-phase (two-pass forward and reverse) non-causal filter:\n",
            "- Filter order 4 (effective, after forward-backward)\n",
            "- Cutoff at 40.00 Hz: -6.02 dB\n",
            "\n",
            "Not setting metadata\n",
            "581 matching events found\n",
            "No baseline correction applied\n"
          ]
        },
        {
          "output_type": "stream",
          "name": "stderr",
          "text": [
            "[Parallel(n_jobs=1)]: Done  23 out of  23 | elapsed:    0.5s finished\n"
          ]
        },
        {
          "output_type": "stream",
          "name": "stdout",
          "text": [
            "0 projection items activated\n",
            "Using data from preloaded Raw for 581 events and 1024 original time points ...\n",
            "0 bad epochs dropped\n",
            "Extracting EDF parameters from /content/drive/MyDrive/Hanna/Mix_Pacientes/imb_mixed_model_files/chb05_17.edf...\n",
            "EDF file detected\n",
            "Setting channel info structure...\n",
            "Creating raw.info structure...\n",
            "Reading 0 ... 921599  =      0.000 ...  3599.996 secs...\n"
          ]
        },
        {
          "output_type": "stream",
          "name": "stderr",
          "text": [
            "<ipython-input-8-563db69d2c10>:2: RuntimeWarning: Channel names are not unique, found duplicates for: {'T8-P8'}. Applying running numbers for duplicates.\n",
            "  datax=mne.io.read_raw_edf(file_path,preload=True)\n"
          ]
        },
        {
          "output_type": "stream",
          "name": "stdout",
          "text": [
            "EEG channel type selected for re-referencing\n",
            "Applying average reference.\n",
            "Applying a custom ('EEG',) reference.\n",
            "Filtering raw data in 1 contiguous segment\n",
            "Setting up high-pass filter at 1 Hz\n",
            "\n",
            "FIR filter parameters\n",
            "---------------------\n",
            "Designing a one-pass, zero-phase, non-causal highpass filter:\n",
            "- Windowed time-domain design (firwin) method\n",
            "- Hamming window with 0.0194 passband ripple and 53 dB stopband attenuation\n",
            "- Lower passband edge: 1.00\n",
            "- Lower transition bandwidth: 1.00 Hz (-6 dB cutoff frequency: 0.50 Hz)\n",
            "- Filter length: 845 samples (3.301 s)\n",
            "\n"
          ]
        },
        {
          "output_type": "stream",
          "name": "stderr",
          "text": [
            "[Parallel(n_jobs=1)]: Using backend SequentialBackend with 1 concurrent workers.\n",
            "[Parallel(n_jobs=1)]: Done   1 out of   1 | elapsed:    0.1s remaining:    0.0s\n",
            "[Parallel(n_jobs=1)]: Done   2 out of   2 | elapsed:    0.1s remaining:    0.0s\n",
            "[Parallel(n_jobs=1)]: Done   3 out of   3 | elapsed:    0.2s remaining:    0.0s\n",
            "[Parallel(n_jobs=1)]: Done   4 out of   4 | elapsed:    0.2s remaining:    0.0s\n"
          ]
        },
        {
          "output_type": "stream",
          "name": "stdout",
          "text": [
            "NOTE: pick_channels() is a legacy function. New code should use inst.pick(...).\n",
            "Filtering raw data in 1 contiguous segment\n",
            "Setting up low-pass filter at 40 Hz\n",
            "\n",
            "IIR filter parameters\n",
            "---------------------\n",
            "Butterworth lowpass zero-phase (two-pass forward and reverse) non-causal filter:\n",
            "- Filter order 4 (effective, after forward-backward)\n",
            "- Cutoff at 40.00 Hz: -6.02 dB\n",
            "\n"
          ]
        },
        {
          "output_type": "stream",
          "name": "stderr",
          "text": [
            "[Parallel(n_jobs=1)]: Done  23 out of  23 | elapsed:    1.5s finished\n"
          ]
        },
        {
          "output_type": "stream",
          "name": "stdout",
          "text": [
            "Not setting metadata\n",
            "900 matching events found\n",
            "No baseline correction applied\n",
            "0 projection items activated\n",
            "Using data from preloaded Raw for 900 events and 1024 original time points ...\n",
            "0 bad epochs dropped\n",
            "Extracting EDF parameters from /content/drive/MyDrive/Hanna/Mix_Pacientes/imb_mixed_model_files/chb11_99.edf...\n",
            "EDF file detected\n",
            "Setting channel info structure...\n",
            "Creating raw.info structure...\n",
            "Reading 0 ... 731903  =      0.000 ...  2858.996 secs...\n"
          ]
        },
        {
          "output_type": "stream",
          "name": "stderr",
          "text": [
            "<ipython-input-8-563db69d2c10>:2: RuntimeWarning: Channel names are not unique, found duplicates for: {'T8-P8', '-'}. Applying running numbers for duplicates.\n",
            "  datax=mne.io.read_raw_edf(file_path,preload=True)\n"
          ]
        },
        {
          "output_type": "stream",
          "name": "stdout",
          "text": [
            "EEG channel type selected for re-referencing\n",
            "Applying average reference.\n",
            "Applying a custom ('EEG',) reference.\n",
            "Filtering raw data in 1 contiguous segment\n",
            "Setting up high-pass filter at 1 Hz\n",
            "\n",
            "FIR filter parameters\n",
            "---------------------\n",
            "Designing a one-pass, zero-phase, non-causal highpass filter:\n",
            "- Windowed time-domain design (firwin) method\n",
            "- Hamming window with 0.0194 passband ripple and 53 dB stopband attenuation\n",
            "- Lower passband edge: 1.00\n",
            "- Lower transition bandwidth: 1.00 Hz (-6 dB cutoff frequency: 0.50 Hz)\n",
            "- Filter length: 845 samples (3.301 s)\n",
            "\n"
          ]
        },
        {
          "output_type": "stream",
          "name": "stderr",
          "text": [
            "[Parallel(n_jobs=1)]: Using backend SequentialBackend with 1 concurrent workers.\n",
            "[Parallel(n_jobs=1)]: Done   1 out of   1 | elapsed:    0.1s remaining:    0.0s\n",
            "[Parallel(n_jobs=1)]: Done   2 out of   2 | elapsed:    0.1s remaining:    0.0s\n",
            "[Parallel(n_jobs=1)]: Done   3 out of   3 | elapsed:    0.2s remaining:    0.0s\n",
            "[Parallel(n_jobs=1)]: Done   4 out of   4 | elapsed:    0.2s remaining:    0.0s\n"
          ]
        },
        {
          "output_type": "stream",
          "name": "stdout",
          "text": [
            "NOTE: pick_channels() is a legacy function. New code should use inst.pick(...).\n",
            "Filtering raw data in 1 contiguous segment\n",
            "Setting up low-pass filter at 40 Hz\n",
            "\n",
            "IIR filter parameters\n",
            "---------------------\n",
            "Butterworth lowpass zero-phase (two-pass forward and reverse) non-causal filter:\n",
            "- Filter order 4 (effective, after forward-backward)\n",
            "- Cutoff at 40.00 Hz: -6.02 dB\n",
            "\n"
          ]
        },
        {
          "output_type": "stream",
          "name": "stderr",
          "text": [
            "[Parallel(n_jobs=1)]: Done  28 out of  28 | elapsed:    1.3s finished\n"
          ]
        },
        {
          "output_type": "stream",
          "name": "stdout",
          "text": [
            "Not setting metadata\n",
            "714 matching events found\n",
            "No baseline correction applied\n",
            "0 projection items activated\n",
            "Using data from preloaded Raw for 714 events and 1024 original time points ...\n",
            "0 bad epochs dropped\n",
            "Extracting EDF parameters from /content/drive/MyDrive/Hanna/Mix_Pacientes/imb_mixed_model_files/chb08_21.edf...\n",
            "EDF file detected\n",
            "Setting channel info structure...\n",
            "Creating raw.info structure...\n",
            "Reading 0 ... 921599  =      0.000 ...  3599.996 secs...\n"
          ]
        },
        {
          "output_type": "stream",
          "name": "stderr",
          "text": [
            "<ipython-input-8-563db69d2c10>:2: RuntimeWarning: Channel names are not unique, found duplicates for: {'T8-P8'}. Applying running numbers for duplicates.\n",
            "  datax=mne.io.read_raw_edf(file_path,preload=True)\n"
          ]
        },
        {
          "output_type": "stream",
          "name": "stdout",
          "text": [
            "EEG channel type selected for re-referencing\n",
            "Applying average reference.\n",
            "Applying a custom ('EEG',) reference.\n",
            "Filtering raw data in 1 contiguous segment\n",
            "Setting up high-pass filter at 1 Hz\n",
            "\n",
            "FIR filter parameters\n",
            "---------------------\n",
            "Designing a one-pass, zero-phase, non-causal highpass filter:\n",
            "- Windowed time-domain design (firwin) method\n",
            "- Hamming window with 0.0194 passband ripple and 53 dB stopband attenuation\n",
            "- Lower passband edge: 1.00\n",
            "- Lower transition bandwidth: 1.00 Hz (-6 dB cutoff frequency: 0.50 Hz)\n",
            "- Filter length: 845 samples (3.301 s)\n",
            "\n"
          ]
        },
        {
          "output_type": "stream",
          "name": "stderr",
          "text": [
            "[Parallel(n_jobs=1)]: Using backend SequentialBackend with 1 concurrent workers.\n",
            "[Parallel(n_jobs=1)]: Done   1 out of   1 | elapsed:    0.0s remaining:    0.0s\n",
            "[Parallel(n_jobs=1)]: Done   2 out of   2 | elapsed:    0.1s remaining:    0.0s\n",
            "[Parallel(n_jobs=1)]: Done   3 out of   3 | elapsed:    0.2s remaining:    0.0s\n",
            "[Parallel(n_jobs=1)]: Done   4 out of   4 | elapsed:    0.2s remaining:    0.0s\n"
          ]
        },
        {
          "output_type": "stream",
          "name": "stdout",
          "text": [
            "NOTE: pick_channels() is a legacy function. New code should use inst.pick(...).\n",
            "Filtering raw data in 1 contiguous segment\n",
            "Setting up low-pass filter at 40 Hz\n",
            "\n",
            "IIR filter parameters\n",
            "---------------------\n",
            "Butterworth lowpass zero-phase (two-pass forward and reverse) non-causal filter:\n",
            "- Filter order 4 (effective, after forward-backward)\n",
            "- Cutoff at 40.00 Hz: -6.02 dB\n",
            "\n"
          ]
        },
        {
          "output_type": "stream",
          "name": "stderr",
          "text": [
            "[Parallel(n_jobs=1)]: Done  23 out of  23 | elapsed:    1.4s finished\n"
          ]
        },
        {
          "output_type": "stream",
          "name": "stdout",
          "text": [
            "Not setting metadata\n",
            "900 matching events found\n",
            "No baseline correction applied\n",
            "0 projection items activated\n",
            "Using data from preloaded Raw for 900 events and 1024 original time points ...\n",
            "0 bad epochs dropped\n",
            "Extracting EDF parameters from /content/drive/MyDrive/Hanna/Mix_Pacientes/imb_mixed_model_files/chb03_03.edf...\n",
            "EDF file detected\n",
            "Setting channel info structure...\n",
            "Creating raw.info structure...\n",
            "Reading 0 ... 921599  =      0.000 ...  3599.996 secs...\n"
          ]
        },
        {
          "output_type": "stream",
          "name": "stderr",
          "text": [
            "<ipython-input-8-563db69d2c10>:2: RuntimeWarning: Channel names are not unique, found duplicates for: {'T8-P8'}. Applying running numbers for duplicates.\n",
            "  datax=mne.io.read_raw_edf(file_path,preload=True)\n"
          ]
        },
        {
          "output_type": "stream",
          "name": "stdout",
          "text": [
            "EEG channel type selected for re-referencing\n",
            "Applying average reference.\n",
            "Applying a custom ('EEG',) reference.\n",
            "Filtering raw data in 1 contiguous segment\n",
            "Setting up high-pass filter at 1 Hz\n",
            "\n",
            "FIR filter parameters\n",
            "---------------------\n",
            "Designing a one-pass, zero-phase, non-causal highpass filter:\n",
            "- Windowed time-domain design (firwin) method\n",
            "- Hamming window with 0.0194 passband ripple and 53 dB stopband attenuation\n",
            "- Lower passband edge: 1.00\n",
            "- Lower transition bandwidth: 1.00 Hz (-6 dB cutoff frequency: 0.50 Hz)\n",
            "- Filter length: 845 samples (3.301 s)\n",
            "\n"
          ]
        },
        {
          "output_type": "stream",
          "name": "stderr",
          "text": [
            "[Parallel(n_jobs=1)]: Using backend SequentialBackend with 1 concurrent workers.\n",
            "[Parallel(n_jobs=1)]: Done   1 out of   1 | elapsed:    0.1s remaining:    0.0s\n",
            "[Parallel(n_jobs=1)]: Done   2 out of   2 | elapsed:    0.2s remaining:    0.0s\n",
            "[Parallel(n_jobs=1)]: Done   3 out of   3 | elapsed:    0.3s remaining:    0.0s\n",
            "[Parallel(n_jobs=1)]: Done   4 out of   4 | elapsed:    0.4s remaining:    0.0s\n"
          ]
        },
        {
          "output_type": "stream",
          "name": "stdout",
          "text": [
            "NOTE: pick_channels() is a legacy function. New code should use inst.pick(...).\n",
            "Filtering raw data in 1 contiguous segment\n",
            "Setting up low-pass filter at 40 Hz\n",
            "\n",
            "IIR filter parameters\n"
          ]
        },
        {
          "output_type": "stream",
          "name": "stderr",
          "text": [
            "[Parallel(n_jobs=1)]: Done  23 out of  23 | elapsed:    2.9s finished\n"
          ]
        },
        {
          "output_type": "stream",
          "name": "stdout",
          "text": [
            "---------------------\n",
            "Butterworth lowpass zero-phase (two-pass forward and reverse) non-causal filter:\n",
            "- Filter order 4 (effective, after forward-backward)\n",
            "- Cutoff at 40.00 Hz: -6.02 dB\n",
            "\n",
            "Not setting metadata\n",
            "900 matching events found\n",
            "No baseline correction applied\n",
            "0 projection items activated\n",
            "Using data from preloaded Raw for 900 events and 1024 original time points ...\n",
            "0 bad epochs dropped\n"
          ]
        }
      ]
    },
    {
      "cell_type": "code",
      "source": [
        "df1 = data[0]\n",
        "df2 = data[1]\n",
        "df3 = data[2]\n",
        "df4 = data[3]\n",
        "df5 = data[4]\n"
      ],
      "metadata": {
        "id": "izuIwHPrvkPZ"
      },
      "execution_count": 10,
      "outputs": []
    },
    {
      "cell_type": "code",
      "source": [
        "dataframes = [df1, df2, df3, df4, df5]"
      ],
      "metadata": {
        "id": "O_RhlXpEBr7M"
      },
      "execution_count": 11,
      "outputs": []
    },
    {
      "cell_type": "code",
      "source": [
        "#Função organizar dataframes\n",
        "for i, df in enumerate (dataframes):\n",
        "  df['condition'] = 0\n",
        "  df['registro'] = i + 1\n"
      ],
      "metadata": {
        "id": "eEjImWRIDZPP"
      },
      "execution_count": 12,
      "outputs": []
    },
    {
      "cell_type": "code",
      "source": [
        "all_df=pd.concat([df1, df2, df3, df4, df5])"
      ],
      "metadata": {
        "id": "HIi-XJ_zj0yc"
      },
      "execution_count": 13,
      "outputs": []
    },
    {
      "cell_type": "code",
      "source": [
        "all_df.info()"
      ],
      "metadata": {
        "colab": {
          "base_uri": "https://localhost:8080/"
        },
        "id": "P2qtYzUVkJtY",
        "outputId": "f61c2234-d18b-497e-a413-298f0dff3463"
      },
      "execution_count": 14,
      "outputs": [
        {
          "output_type": "stream",
          "name": "stdout",
          "text": [
            "<class 'pandas.core.frame.DataFrame'>\n",
            "Int64Index: 4090880 entries, 0 to 921599\n",
            "Data columns (total 8 columns):\n",
            " #   Column     Dtype  \n",
            "---  ------     -----  \n",
            " 0   time       float64\n",
            " 1   condition  int64  \n",
            " 2   epoch      int64  \n",
            " 3   F3-C3      float64\n",
            " 4   C3-P3      float64\n",
            " 5   F4-C4      float64\n",
            " 6   C4-P4      float64\n",
            " 7   registro   int64  \n",
            "dtypes: float64(5), int64(3)\n",
            "memory usage: 280.9 MB\n"
          ]
        }
      ]
    },
    {
      "cell_type": "code",
      "source": [
        "# reindex the columns\n",
        "all_df = all_df.reindex(columns=['time', 'condition', 'epoch', 'registro', 'F3-C3', 'C3-P3', 'F4-C4', 'C4-P4'])\n",
        "\n",
        "print(all_df)"
      ],
      "metadata": {
        "colab": {
          "base_uri": "https://localhost:8080/"
        },
        "id": "NQF3lYB-lHXk",
        "outputId": "3ada1ef9-cc16-4fa8-a19c-d0c234364d61"
      },
      "execution_count": 15,
      "outputs": [
        {
          "output_type": "stream",
          "name": "stdout",
          "text": [
            "            time  condition  epoch  registro       F3-C3       C3-P3  \\\n",
            "0       0.000000          0      0         1   -0.002272    0.002672   \n",
            "1       0.003906          0      0         1  142.880112 -156.946778   \n",
            "2       0.007812          0      0         1  232.267538 -255.092702   \n",
            "3       0.011719          0      0         1  261.047673 -286.613872   \n",
            "4       0.015625          0      0         1  256.817341 -281.904019   \n",
            "...          ...        ...    ...       ...         ...         ...   \n",
            "921595  3.980469          0    899         5   23.692563    4.540565   \n",
            "921596  3.984375          0    899         5   17.379465    1.212173   \n",
            "921597  3.988281          0    899         5   10.106565   -1.499162   \n",
            "921598  3.992188          0    899         5    4.137607   -1.788148   \n",
            "921599  3.996094          0    899         5    0.000985   -0.000301   \n",
            "\n",
            "            F4-C4      C4-P4  \n",
            "0       -0.002326   0.002243  \n",
            "1       21.984379   7.698781  \n",
            "2       35.736252  12.586873  \n",
            "3       40.245418  14.232297  \n",
            "4       39.858893  13.900736  \n",
            "...           ...        ...  \n",
            "921595  10.503569   2.790182  \n",
            "921596  13.384983   0.128302  \n",
            "921597  11.734409  -1.746293  \n",
            "921598   6.651220  -1.698467  \n",
            "921599   0.002101  -0.001165  \n",
            "\n",
            "[4090880 rows x 8 columns]\n"
          ]
        }
      ]
    },
    {
      "cell_type": "markdown",
      "source": [
        "# Labels"
      ],
      "metadata": {
        "id": "ceEMgCZ2l4BW"
      }
    },
    {
      "cell_type": "code",
      "source": [
        "def seizureepochs (start_time, duration):\n",
        "  start_time = start_time  # example seizure start time in seconds\n",
        "  duration = duration  # example seizure duration in seconds\n",
        "  sampling_rate = 256  # EEG data sampling rate in Hz\n",
        "  epoch_len = 4  # epoch length in seconds\n",
        "  overlap = 0  # epoch overlap in seconds\n",
        "  epoch_len_samples = epoch_len * sampling_rate  # epoch length in data points\n",
        "  overlap_samples = overlap * sampling_rate  # epoch overlap in data points\n",
        "  start_sample = int((start_time - overlap) * sampling_rate)  # calculate starting sample index\n",
        "  end_sample = int((start_time + duration - overlap) * sampling_rate)  # calculate ending sample index\n",
        "  start_epoch = int(round(start_sample / epoch_len_samples))  # round to nearest epoch boundary\n",
        "  end_epoch = int(round(end_sample / epoch_len_samples))  # round to nearest epoch boundary\n",
        "  seizure_epochs = list(range(start_epoch, end_epoch + 1))  # create list of epochs that correspond to seizure\n",
        "  return seizure_epochs\n"
      ],
      "metadata": {
        "id": "nK-pHqxeIrCk"
      },
      "execution_count": 16,
      "outputs": []
    },
    {
      "cell_type": "markdown",
      "source": [
        "Registro chb01_26"
      ],
      "metadata": {
        "id": "O95snC8AhyFA"
      }
    },
    {
      "cell_type": "code",
      "source": [
        "registrochb01_26 = seizureepochs(1862, 101)"
      ],
      "metadata": {
        "id": "p-LRRPaThyFA"
      },
      "execution_count": 17,
      "outputs": []
    },
    {
      "cell_type": "code",
      "source": [
        "registrochb01_26"
      ],
      "metadata": {
        "colab": {
          "base_uri": "https://localhost:8080/"
        },
        "outputId": "21c26985-0fb4-4acf-e4c1-b8de31b301b9",
        "id": "FiIAneqUhyFA"
      },
      "execution_count": 18,
      "outputs": [
        {
          "output_type": "execute_result",
          "data": {
            "text/plain": [
              "[466,\n",
              " 467,\n",
              " 468,\n",
              " 469,\n",
              " 470,\n",
              " 471,\n",
              " 472,\n",
              " 473,\n",
              " 474,\n",
              " 475,\n",
              " 476,\n",
              " 477,\n",
              " 478,\n",
              " 479,\n",
              " 480,\n",
              " 481,\n",
              " 482,\n",
              " 483,\n",
              " 484,\n",
              " 485,\n",
              " 486,\n",
              " 487,\n",
              " 488,\n",
              " 489,\n",
              " 490,\n",
              " 491]"
            ]
          },
          "metadata": {},
          "execution_count": 18
        }
      ]
    },
    {
      "cell_type": "code",
      "source": [
        "all_df.loc[(all_df['epoch']>=466) & (all_df['epoch']<=491) & (all_df['registro']==1), 'condition']=1"
      ],
      "metadata": {
        "id": "ygIcRVCxhyFA"
      },
      "execution_count": 19,
      "outputs": []
    },
    {
      "cell_type": "code",
      "source": [
        "all_df['condition'].value_counts()"
      ],
      "metadata": {
        "colab": {
          "base_uri": "https://localhost:8080/"
        },
        "outputId": "d428eaa9-a9c9-43af-c3a9-b509b98e4c84",
        "id": "kkafMoOqhyFB"
      },
      "execution_count": 20,
      "outputs": [
        {
          "output_type": "execute_result",
          "data": {
            "text/plain": [
              "0    4064256\n",
              "1      26624\n",
              "Name: condition, dtype: int64"
            ]
          },
          "metadata": {},
          "execution_count": 20
        }
      ]
    },
    {
      "cell_type": "markdown",
      "source": [
        "Registro chb05_17"
      ],
      "metadata": {
        "id": "WA6i4DAGqLgm"
      }
    },
    {
      "cell_type": "code",
      "source": [
        "Registro_chb05_17 = seizureepochs(2451, 120)"
      ],
      "metadata": {
        "id": "RUIW_C8qsTY2"
      },
      "execution_count": 21,
      "outputs": []
    },
    {
      "cell_type": "code",
      "source": [
        "Registro_chb05_17"
      ],
      "metadata": {
        "colab": {
          "base_uri": "https://localhost:8080/"
        },
        "id": "47h3IAsgsa15",
        "outputId": "8185717f-61b4-4b02-a914-3e7f8605a130"
      },
      "execution_count": 22,
      "outputs": [
        {
          "output_type": "execute_result",
          "data": {
            "text/plain": [
              "[613,\n",
              " 614,\n",
              " 615,\n",
              " 616,\n",
              " 617,\n",
              " 618,\n",
              " 619,\n",
              " 620,\n",
              " 621,\n",
              " 622,\n",
              " 623,\n",
              " 624,\n",
              " 625,\n",
              " 626,\n",
              " 627,\n",
              " 628,\n",
              " 629,\n",
              " 630,\n",
              " 631,\n",
              " 632,\n",
              " 633,\n",
              " 634,\n",
              " 635,\n",
              " 636,\n",
              " 637,\n",
              " 638,\n",
              " 639,\n",
              " 640,\n",
              " 641,\n",
              " 642,\n",
              " 643]"
            ]
          },
          "metadata": {},
          "execution_count": 22
        }
      ]
    },
    {
      "cell_type": "code",
      "source": [
        "all_df.loc[(all_df['epoch']>=613) & (all_df['epoch']<643) & (all_df['registro']==2), 'condition']=1"
      ],
      "metadata": {
        "id": "QRzKnprWshqm"
      },
      "execution_count": 23,
      "outputs": []
    },
    {
      "cell_type": "code",
      "source": [
        "all_df['condition'].value_counts()"
      ],
      "metadata": {
        "colab": {
          "base_uri": "https://localhost:8080/"
        },
        "id": "Z3KnqWLtqhCS",
        "outputId": "0fa54616-f122-4c03-f468-18ac741ed71a"
      },
      "execution_count": 24,
      "outputs": [
        {
          "output_type": "execute_result",
          "data": {
            "text/plain": [
              "0    4033536\n",
              "1      57344\n",
              "Name: condition, dtype: int64"
            ]
          },
          "metadata": {},
          "execution_count": 24
        }
      ]
    },
    {
      "cell_type": "markdown",
      "source": [
        "Registro Chb11_99"
      ],
      "metadata": {
        "id": "YZX9zFl0jNMw"
      }
    },
    {
      "cell_type": "code",
      "source": [
        "Registro_Chb11_99 = seizureepochs(1454, 752)"
      ],
      "metadata": {
        "id": "BhONrFvejNMy"
      },
      "execution_count": 25,
      "outputs": []
    },
    {
      "cell_type": "code",
      "source": [
        "Registro_Chb11_99"
      ],
      "metadata": {
        "colab": {
          "base_uri": "https://localhost:8080/"
        },
        "outputId": "5bec48c7-fa3f-46f1-a850-b37e7b290787",
        "id": "pYK0uLohjNMz"
      },
      "execution_count": 26,
      "outputs": [
        {
          "output_type": "execute_result",
          "data": {
            "text/plain": [
              "[364,\n",
              " 365,\n",
              " 366,\n",
              " 367,\n",
              " 368,\n",
              " 369,\n",
              " 370,\n",
              " 371,\n",
              " 372,\n",
              " 373,\n",
              " 374,\n",
              " 375,\n",
              " 376,\n",
              " 377,\n",
              " 378,\n",
              " 379,\n",
              " 380,\n",
              " 381,\n",
              " 382,\n",
              " 383,\n",
              " 384,\n",
              " 385,\n",
              " 386,\n",
              " 387,\n",
              " 388,\n",
              " 389,\n",
              " 390,\n",
              " 391,\n",
              " 392,\n",
              " 393,\n",
              " 394,\n",
              " 395,\n",
              " 396,\n",
              " 397,\n",
              " 398,\n",
              " 399,\n",
              " 400,\n",
              " 401,\n",
              " 402,\n",
              " 403,\n",
              " 404,\n",
              " 405,\n",
              " 406,\n",
              " 407,\n",
              " 408,\n",
              " 409,\n",
              " 410,\n",
              " 411,\n",
              " 412,\n",
              " 413,\n",
              " 414,\n",
              " 415,\n",
              " 416,\n",
              " 417,\n",
              " 418,\n",
              " 419,\n",
              " 420,\n",
              " 421,\n",
              " 422,\n",
              " 423,\n",
              " 424,\n",
              " 425,\n",
              " 426,\n",
              " 427,\n",
              " 428,\n",
              " 429,\n",
              " 430,\n",
              " 431,\n",
              " 432,\n",
              " 433,\n",
              " 434,\n",
              " 435,\n",
              " 436,\n",
              " 437,\n",
              " 438,\n",
              " 439,\n",
              " 440,\n",
              " 441,\n",
              " 442,\n",
              " 443,\n",
              " 444,\n",
              " 445,\n",
              " 446,\n",
              " 447,\n",
              " 448,\n",
              " 449,\n",
              " 450,\n",
              " 451,\n",
              " 452,\n",
              " 453,\n",
              " 454,\n",
              " 455,\n",
              " 456,\n",
              " 457,\n",
              " 458,\n",
              " 459,\n",
              " 460,\n",
              " 461,\n",
              " 462,\n",
              " 463,\n",
              " 464,\n",
              " 465,\n",
              " 466,\n",
              " 467,\n",
              " 468,\n",
              " 469,\n",
              " 470,\n",
              " 471,\n",
              " 472,\n",
              " 473,\n",
              " 474,\n",
              " 475,\n",
              " 476,\n",
              " 477,\n",
              " 478,\n",
              " 479,\n",
              " 480,\n",
              " 481,\n",
              " 482,\n",
              " 483,\n",
              " 484,\n",
              " 485,\n",
              " 486,\n",
              " 487,\n",
              " 488,\n",
              " 489,\n",
              " 490,\n",
              " 491,\n",
              " 492,\n",
              " 493,\n",
              " 494,\n",
              " 495,\n",
              " 496,\n",
              " 497,\n",
              " 498,\n",
              " 499,\n",
              " 500,\n",
              " 501,\n",
              " 502,\n",
              " 503,\n",
              " 504,\n",
              " 505,\n",
              " 506,\n",
              " 507,\n",
              " 508,\n",
              " 509,\n",
              " 510,\n",
              " 511,\n",
              " 512,\n",
              " 513,\n",
              " 514,\n",
              " 515,\n",
              " 516,\n",
              " 517,\n",
              " 518,\n",
              " 519,\n",
              " 520,\n",
              " 521,\n",
              " 522,\n",
              " 523,\n",
              " 524,\n",
              " 525,\n",
              " 526,\n",
              " 527,\n",
              " 528,\n",
              " 529,\n",
              " 530,\n",
              " 531,\n",
              " 532,\n",
              " 533,\n",
              " 534,\n",
              " 535,\n",
              " 536,\n",
              " 537,\n",
              " 538,\n",
              " 539,\n",
              " 540,\n",
              " 541,\n",
              " 542,\n",
              " 543,\n",
              " 544,\n",
              " 545,\n",
              " 546,\n",
              " 547,\n",
              " 548,\n",
              " 549,\n",
              " 550,\n",
              " 551,\n",
              " 552]"
            ]
          },
          "metadata": {},
          "execution_count": 26
        }
      ]
    },
    {
      "cell_type": "code",
      "source": [
        "all_df.loc[(all_df['epoch']>=364) & (all_df['epoch']<552) & (all_df['registro']==3), 'condition']=1"
      ],
      "metadata": {
        "id": "dgq8NsGpjNM0"
      },
      "execution_count": 27,
      "outputs": []
    },
    {
      "cell_type": "code",
      "source": [
        "all_df['condition'].value_counts()"
      ],
      "metadata": {
        "colab": {
          "base_uri": "https://localhost:8080/"
        },
        "outputId": "3da9adf7-b7dc-4dff-f1f1-82ec188eafa8",
        "id": "olY7ICJRjNM1"
      },
      "execution_count": 28,
      "outputs": [
        {
          "output_type": "execute_result",
          "data": {
            "text/plain": [
              "0    3841024\n",
              "1     249856\n",
              "Name: condition, dtype: int64"
            ]
          },
          "metadata": {},
          "execution_count": 28
        }
      ]
    },
    {
      "cell_type": "markdown",
      "source": [
        "Registro Chb08_21"
      ],
      "metadata": {
        "id": "S6SmC29xqOCt"
      }
    },
    {
      "cell_type": "code",
      "source": [
        "Registro_Chb08_21 = seizureepochs(2083, 264)"
      ],
      "metadata": {
        "id": "1fll304Os8yB"
      },
      "execution_count": 29,
      "outputs": []
    },
    {
      "cell_type": "code",
      "source": [
        "Registro_Chb08_21"
      ],
      "metadata": {
        "colab": {
          "base_uri": "https://localhost:8080/"
        },
        "id": "fajSqekMtDzK",
        "outputId": "27556fe9-2467-44c1-f901-201f5340866f"
      },
      "execution_count": 30,
      "outputs": [
        {
          "output_type": "execute_result",
          "data": {
            "text/plain": [
              "[521,\n",
              " 522,\n",
              " 523,\n",
              " 524,\n",
              " 525,\n",
              " 526,\n",
              " 527,\n",
              " 528,\n",
              " 529,\n",
              " 530,\n",
              " 531,\n",
              " 532,\n",
              " 533,\n",
              " 534,\n",
              " 535,\n",
              " 536,\n",
              " 537,\n",
              " 538,\n",
              " 539,\n",
              " 540,\n",
              " 541,\n",
              " 542,\n",
              " 543,\n",
              " 544,\n",
              " 545,\n",
              " 546,\n",
              " 547,\n",
              " 548,\n",
              " 549,\n",
              " 550,\n",
              " 551,\n",
              " 552,\n",
              " 553,\n",
              " 554,\n",
              " 555,\n",
              " 556,\n",
              " 557,\n",
              " 558,\n",
              " 559,\n",
              " 560,\n",
              " 561,\n",
              " 562,\n",
              " 563,\n",
              " 564,\n",
              " 565,\n",
              " 566,\n",
              " 567,\n",
              " 568,\n",
              " 569,\n",
              " 570,\n",
              " 571,\n",
              " 572,\n",
              " 573,\n",
              " 574,\n",
              " 575,\n",
              " 576,\n",
              " 577,\n",
              " 578,\n",
              " 579,\n",
              " 580,\n",
              " 581,\n",
              " 582,\n",
              " 583,\n",
              " 584,\n",
              " 585,\n",
              " 586,\n",
              " 587]"
            ]
          },
          "metadata": {},
          "execution_count": 30
        }
      ]
    },
    {
      "cell_type": "code",
      "source": [
        "all_df.loc[(all_df['epoch']>=521) & (all_df['epoch']<587) & (all_df['registro']==4), 'condition']=1"
      ],
      "metadata": {
        "id": "asrdElQJtH00"
      },
      "execution_count": 31,
      "outputs": []
    },
    {
      "cell_type": "code",
      "source": [
        "all_df['condition'].value_counts()"
      ],
      "metadata": {
        "colab": {
          "base_uri": "https://localhost:8080/"
        },
        "id": "XYt2_gzNqiKA",
        "outputId": "75f9750e-c0b7-4369-9870-4b00168b64d1"
      },
      "execution_count": 32,
      "outputs": [
        {
          "output_type": "execute_result",
          "data": {
            "text/plain": [
              "0    3773440\n",
              "1     317440\n",
              "Name: condition, dtype: int64"
            ]
          },
          "metadata": {},
          "execution_count": 32
        }
      ]
    },
    {
      "cell_type": "markdown",
      "source": [
        "Registro chb03_03"
      ],
      "metadata": {
        "id": "9NVNB2DrqFRU"
      }
    },
    {
      "cell_type": "code",
      "source": [
        "registrochb03_03 =seizureepochs(432, 69)"
      ],
      "metadata": {
        "id": "f_WHSP8Zr2NR"
      },
      "execution_count": 33,
      "outputs": []
    },
    {
      "cell_type": "code",
      "source": [
        "registrochb03_03"
      ],
      "metadata": {
        "colab": {
          "base_uri": "https://localhost:8080/"
        },
        "id": "ojNeAmbgr-fS",
        "outputId": "672de656-7ba0-4d50-9693-f1e6860e43d7"
      },
      "execution_count": 34,
      "outputs": [
        {
          "output_type": "execute_result",
          "data": {
            "text/plain": [
              "[108,\n",
              " 109,\n",
              " 110,\n",
              " 111,\n",
              " 112,\n",
              " 113,\n",
              " 114,\n",
              " 115,\n",
              " 116,\n",
              " 117,\n",
              " 118,\n",
              " 119,\n",
              " 120,\n",
              " 121,\n",
              " 122,\n",
              " 123,\n",
              " 124,\n",
              " 125]"
            ]
          },
          "metadata": {},
          "execution_count": 34
        }
      ]
    },
    {
      "cell_type": "code",
      "source": [
        "all_df.loc[(all_df['epoch']>=108) & (all_df['epoch']<=125) & (all_df['registro']==5), 'condition']=1"
      ],
      "metadata": {
        "id": "AtPChlZOsGTo"
      },
      "execution_count": 35,
      "outputs": []
    },
    {
      "cell_type": "code",
      "source": [
        "all_df['condition'].value_counts()"
      ],
      "metadata": {
        "colab": {
          "base_uri": "https://localhost:8080/"
        },
        "id": "PGIY_Fqrqf27",
        "outputId": "49214a3c-021c-4fba-ef12-af6c622e5d66"
      },
      "execution_count": 36,
      "outputs": [
        {
          "output_type": "execute_result",
          "data": {
            "text/plain": [
              "0    3755008\n",
              "1     335872\n",
              "Name: condition, dtype: int64"
            ]
          },
          "metadata": {},
          "execution_count": 36
        }
      ]
    },
    {
      "cell_type": "code",
      "source": [
        "#verificar se as labels foram inseridas\n",
        "unique_values = np.unique(all_df['condition'])\n",
        "print(unique_values)\n"
      ],
      "metadata": {
        "colab": {
          "base_uri": "https://localhost:8080/"
        },
        "id": "xCPCp7f0xUv8",
        "outputId": "b14d8060-7f34-48ba-c14b-c1ad14a797f6"
      },
      "execution_count": 37,
      "outputs": [
        {
          "output_type": "stream",
          "name": "stdout",
          "text": [
            "[0 1]\n"
          ]
        }
      ]
    },
    {
      "cell_type": "markdown",
      "source": [
        "# Reshape to a 3D Tensor"
      ],
      "metadata": {
        "id": "BdmhTVBWId2H"
      }
    },
    {
      "cell_type": "code",
      "source": [
        "from tqdm import tqdm"
      ],
      "metadata": {
        "id": "XTZc_As0xlQv"
      },
      "execution_count": 38,
      "outputs": []
    },
    {
      "cell_type": "code",
      "source": [
        "def split_array(array, chunk_size):\n",
        "    rows, cols = array.shape\n",
        "    num_chunks = rows // chunk_size\n",
        "    chunks = np.split(array[:num_chunks*chunk_size], num_chunks)\n",
        "    return chunks"
      ],
      "metadata": {
        "id": "6rw4Uz30lA1R"
      },
      "execution_count": 39,
      "outputs": []
    },
    {
      "cell_type": "code",
      "source": [
        "channel_columns_names = all_df.columns[4:]\n",
        "frame_length = 256\n",
        "\n",
        "frames = [\n",
        "    frame for frame in tqdm(split_array(all_df, frame_length))\n",
        "    if frame['condition'].unique().shape[0] == 1 and frame['epoch'].unique().shape[0] == 1\n",
        "]\n",
        "\n",
        "print(f'Generated {len(frames)} frames')\n",
        "\n",
        "frames_X = np.array([frame[channel_columns_names].values for frame in tqdm(frames) if frame.shape[0] == frame_length])\n",
        "frames_Y = np.array([frame['condition'].unique()[0] for frame in tqdm(frames) if frame.shape[0] == frame_length])"
      ],
      "metadata": {
        "colab": {
          "base_uri": "https://localhost:8080/"
        },
        "id": "FFdjRsMy4wrd",
        "outputId": "06ea5b46-ec1b-404c-8e40-27b068e83338"
      },
      "execution_count": 40,
      "outputs": [
        {
          "output_type": "stream",
          "name": "stderr",
          "text": [
            "100%|██████████| 15980/15980 [00:08<00:00, 1904.80it/s]\n"
          ]
        },
        {
          "output_type": "stream",
          "name": "stdout",
          "text": [
            "Generated 15980 frames\n"
          ]
        },
        {
          "output_type": "stream",
          "name": "stderr",
          "text": [
            "100%|██████████| 15980/15980 [00:11<00:00, 1431.83it/s]\n",
            "100%|██████████| 15980/15980 [00:02<00:00, 6635.64it/s]\n"
          ]
        }
      ]
    },
    {
      "cell_type": "markdown",
      "source": [
        "Change the labels to categorical"
      ],
      "metadata": {
        "id": "HHVraUNVEHQ9"
      }
    },
    {
      "cell_type": "code",
      "source": [
        "from keras.utils import to_categorical\n",
        "\n",
        "# transform the condition data to categorical values\n",
        "num_classes = 2  # number of classes (seizure and non-seizure)\n",
        "condition_data = to_categorical(frames_Y, num_classes)\n",
        "\n",
        "\n",
        "# split the data into training and test sets\n",
        "X_train, X_test, y_train, y_test = train_test_split(frames_X, frames_Y, test_size=0.2, random_state=42)\n",
        "\n",
        "# split the training data into training and validation sets\n",
        "X_train, X_val, y_train, y_val = train_test_split(X_train, y_train, test_size=0.2, random_state=42)\n"
      ],
      "metadata": {
        "id": "XDDZzJqQEHQ_"
      },
      "execution_count": 41,
      "outputs": []
    },
    {
      "cell_type": "code",
      "source": [
        "print('X_train', X_train.shape)\n",
        "print('y_train', y_train.shape)\n",
        "print('X_test', X_test.shape)\n",
        "print('y_test', y_test.shape)\n",
        "print('X_val',X_val.shape)\n",
        "print('y_val', y_val.shape)"
      ],
      "metadata": {
        "colab": {
          "base_uri": "https://localhost:8080/"
        },
        "outputId": "0a872365-a687-4b81-f4ba-8ec60ee4647e",
        "id": "V0JlntZAEHRA"
      },
      "execution_count": 42,
      "outputs": [
        {
          "output_type": "stream",
          "name": "stdout",
          "text": [
            "X_train (10227, 256, 4)\n",
            "y_train (10227,)\n",
            "X_test (3196, 256, 4)\n",
            "y_test (3196,)\n",
            "X_val (2557, 256, 4)\n",
            "y_val (2557,)\n"
          ]
        }
      ]
    },
    {
      "cell_type": "code",
      "source": [
        "pd.DataFrame([pd.Series(data).value_counts(normalize=True) for data in (y_train, y_test, y_val)], index=['Train', 'Test', 'Val'])"
      ],
      "metadata": {
        "colab": {
          "base_uri": "https://localhost:8080/",
          "height": 143
        },
        "outputId": "64e25c2e-4b40-4cf5-a419-3ceed9921996",
        "id": "XiPS7qH7EHRB"
      },
      "execution_count": 43,
      "outputs": [
        {
          "output_type": "execute_result",
          "data": {
            "text/plain": [
              "              0         1\n",
              "Train  0.918256  0.081744\n",
              "Test   0.915832  0.084168\n",
              "Val    0.919046  0.080954"
            ],
            "text/html": [
              "\n",
              "  <div id=\"df-04a4f3c0-ea6e-4800-911a-3d30e52bdd7f\">\n",
              "    <div class=\"colab-df-container\">\n",
              "      <div>\n",
              "<style scoped>\n",
              "    .dataframe tbody tr th:only-of-type {\n",
              "        vertical-align: middle;\n",
              "    }\n",
              "\n",
              "    .dataframe tbody tr th {\n",
              "        vertical-align: top;\n",
              "    }\n",
              "\n",
              "    .dataframe thead th {\n",
              "        text-align: right;\n",
              "    }\n",
              "</style>\n",
              "<table border=\"1\" class=\"dataframe\">\n",
              "  <thead>\n",
              "    <tr style=\"text-align: right;\">\n",
              "      <th></th>\n",
              "      <th>0</th>\n",
              "      <th>1</th>\n",
              "    </tr>\n",
              "  </thead>\n",
              "  <tbody>\n",
              "    <tr>\n",
              "      <th>Train</th>\n",
              "      <td>0.918256</td>\n",
              "      <td>0.081744</td>\n",
              "    </tr>\n",
              "    <tr>\n",
              "      <th>Test</th>\n",
              "      <td>0.915832</td>\n",
              "      <td>0.084168</td>\n",
              "    </tr>\n",
              "    <tr>\n",
              "      <th>Val</th>\n",
              "      <td>0.919046</td>\n",
              "      <td>0.080954</td>\n",
              "    </tr>\n",
              "  </tbody>\n",
              "</table>\n",
              "</div>\n",
              "      <button class=\"colab-df-convert\" onclick=\"convertToInteractive('df-04a4f3c0-ea6e-4800-911a-3d30e52bdd7f')\"\n",
              "              title=\"Convert this dataframe to an interactive table.\"\n",
              "              style=\"display:none;\">\n",
              "        \n",
              "  <svg xmlns=\"http://www.w3.org/2000/svg\" height=\"24px\"viewBox=\"0 0 24 24\"\n",
              "       width=\"24px\">\n",
              "    <path d=\"M0 0h24v24H0V0z\" fill=\"none\"/>\n",
              "    <path d=\"M18.56 5.44l.94 2.06.94-2.06 2.06-.94-2.06-.94-.94-2.06-.94 2.06-2.06.94zm-11 1L8.5 8.5l.94-2.06 2.06-.94-2.06-.94L8.5 2.5l-.94 2.06-2.06.94zm10 10l.94 2.06.94-2.06 2.06-.94-2.06-.94-.94-2.06-.94 2.06-2.06.94z\"/><path d=\"M17.41 7.96l-1.37-1.37c-.4-.4-.92-.59-1.43-.59-.52 0-1.04.2-1.43.59L10.3 9.45l-7.72 7.72c-.78.78-.78 2.05 0 2.83L4 21.41c.39.39.9.59 1.41.59.51 0 1.02-.2 1.41-.59l7.78-7.78 2.81-2.81c.8-.78.8-2.07 0-2.86zM5.41 20L4 18.59l7.72-7.72 1.47 1.35L5.41 20z\"/>\n",
              "  </svg>\n",
              "      </button>\n",
              "      \n",
              "  <style>\n",
              "    .colab-df-container {\n",
              "      display:flex;\n",
              "      flex-wrap:wrap;\n",
              "      gap: 12px;\n",
              "    }\n",
              "\n",
              "    .colab-df-convert {\n",
              "      background-color: #E8F0FE;\n",
              "      border: none;\n",
              "      border-radius: 50%;\n",
              "      cursor: pointer;\n",
              "      display: none;\n",
              "      fill: #1967D2;\n",
              "      height: 32px;\n",
              "      padding: 0 0 0 0;\n",
              "      width: 32px;\n",
              "    }\n",
              "\n",
              "    .colab-df-convert:hover {\n",
              "      background-color: #E2EBFA;\n",
              "      box-shadow: 0px 1px 2px rgba(60, 64, 67, 0.3), 0px 1px 3px 1px rgba(60, 64, 67, 0.15);\n",
              "      fill: #174EA6;\n",
              "    }\n",
              "\n",
              "    [theme=dark] .colab-df-convert {\n",
              "      background-color: #3B4455;\n",
              "      fill: #D2E3FC;\n",
              "    }\n",
              "\n",
              "    [theme=dark] .colab-df-convert:hover {\n",
              "      background-color: #434B5C;\n",
              "      box-shadow: 0px 1px 3px 1px rgba(0, 0, 0, 0.15);\n",
              "      filter: drop-shadow(0px 1px 2px rgba(0, 0, 0, 0.3));\n",
              "      fill: #FFFFFF;\n",
              "    }\n",
              "  </style>\n",
              "\n",
              "      <script>\n",
              "        const buttonEl =\n",
              "          document.querySelector('#df-04a4f3c0-ea6e-4800-911a-3d30e52bdd7f button.colab-df-convert');\n",
              "        buttonEl.style.display =\n",
              "          google.colab.kernel.accessAllowed ? 'block' : 'none';\n",
              "\n",
              "        async function convertToInteractive(key) {\n",
              "          const element = document.querySelector('#df-04a4f3c0-ea6e-4800-911a-3d30e52bdd7f');\n",
              "          const dataTable =\n",
              "            await google.colab.kernel.invokeFunction('convertToInteractive',\n",
              "                                                     [key], {});\n",
              "          if (!dataTable) return;\n",
              "\n",
              "          const docLinkHtml = 'Like what you see? Visit the ' +\n",
              "            '<a target=\"_blank\" href=https://colab.research.google.com/notebooks/data_table.ipynb>data table notebook</a>'\n",
              "            + ' to learn more about interactive tables.';\n",
              "          element.innerHTML = '';\n",
              "          dataTable['output_type'] = 'display_data';\n",
              "          await google.colab.output.renderOutput(dataTable, element);\n",
              "          const docLink = document.createElement('div');\n",
              "          docLink.innerHTML = docLinkHtml;\n",
              "          element.appendChild(docLink);\n",
              "        }\n",
              "      </script>\n",
              "    </div>\n",
              "  </div>\n",
              "  "
            ]
          },
          "metadata": {},
          "execution_count": 43
        }
      ]
    },
    {
      "cell_type": "markdown",
      "source": [
        "# Deep Learning"
      ],
      "metadata": {
        "id": "pa5ZUx0eV5uN"
      }
    },
    {
      "cell_type": "code",
      "source": [
        "import numpy as np\n",
        "from keras.models import Model\n",
        "from keras.layers import Input, Conv2D, DepthwiseConv2D, BatchNormalization, Activation, AveragePooling2D, Flatten, Dense\n",
        "\n",
        "# Define the input shape\n",
        "# num_epochs = 900\n",
        "# num_channels = 4\n",
        "# num_samples = 1024\n",
        "\n",
        "input_shape = (X_train.shape[1], X_train.shape[2], 1)\n",
        "\n",
        "# Reshape the input data\n",
        "# X_train_reshaped = X_train.reshape(-1, num_channels, 1)\n",
        "# X_test_reshaped = X_test.reshape(X_test.shape[0], X_test.shape[1], X_test.shape[2], 1)\n",
        "\n",
        "X_train_reshaped = X_train.reshape(*X_train.shape, 1)\n",
        "X_val_reshaped = X_val.reshape(*X_val.shape, 1)\n",
        "X_test_reshaped = X_test.reshape(*X_test.shape, 1)"
      ],
      "metadata": {
        "id": "1u-Jnc8aZqPQ"
      },
      "execution_count": 44,
      "outputs": []
    },
    {
      "cell_type": "code",
      "source": [
        "X_train_reshaped.shape"
      ],
      "metadata": {
        "colab": {
          "base_uri": "https://localhost:8080/"
        },
        "id": "aY2vkl4KhhfM",
        "outputId": "104039c3-3217-4ebf-840b-193fc22d3ad0"
      },
      "execution_count": 45,
      "outputs": [
        {
          "output_type": "execute_result",
          "data": {
            "text/plain": [
              "(10227, 256, 4, 1)"
            ]
          },
          "metadata": {},
          "execution_count": 45
        }
      ]
    },
    {
      "cell_type": "code",
      "source": [
        "def EEGNet2(input_shape, num_classes):\n",
        "\n",
        "    input_layer = Input(shape=input_shape)\n",
        "\n",
        "    # First Conv2D layer\n",
        "    conv1 = Conv2D(filters=16, kernel_size=(64, 1), strides=(1, 1), padding='same', data_format='channels_last')(input_layer)\n",
        "    conv1 = BatchNormalization()(conv1)\n",
        "    conv1 = DepthwiseConv2D(kernel_size=(2, 1), strides=(2, 2), depth_multiplier=1, padding='valid')(conv1)\n",
        "    conv1 = BatchNormalization()(conv1)\n",
        "    conv1 = Activation('elu')(conv1)\n",
        "\n",
        "    # Second Conv2D layer\n",
        "    conv2 = Conv2D(filters=32, kernel_size=(32, 1), strides=(1, 1), padding='same', data_format='channels_last')(conv1)\n",
        "    conv2 = BatchNormalization()(conv2)\n",
        "    conv2 = DepthwiseConv2D(kernel_size=(2, 1), strides=(2, 2), depth_multiplier=2, padding='valid')(conv2)\n",
        "    conv2 = BatchNormalization()(conv2)\n",
        "    conv2 = Activation('elu')(conv2)\n",
        "\n",
        "    # Third Conv2D layer\n",
        "    conv3 = Conv2D(filters=32, kernel_size=(16, 1), strides=(1, 1), padding='same', data_format='channels_last')(conv2)\n",
        "    conv3 = BatchNormalization()(conv3)\n",
        "    conv3 = DepthwiseConv2D(kernel_size=(2, 1), strides=(2, 2), depth_multiplier=4, padding='valid')(conv3)\n",
        "    conv3 = BatchNormalization()(conv3)\n",
        "    conv3 = Activation('elu')(conv3)\n",
        "\n",
        "    # Average Pooling layer\n",
        "    avg_pool = AveragePooling2D(pool_size=(4, 1), strides=(1, 1))(conv3)\n",
        "\n",
        "    # Flatten layer\n",
        "    flatten = Flatten()(avg_pool)\n",
        "\n",
        "    # Dense layer\n",
        "    dense = Dense(units=num_classes, activation='sigmoid')(flatten)\n",
        "\n",
        "    # Create the model\n",
        "    model = Model(inputs=input_layer, outputs=dense)\n",
        "\n",
        "    return model\n"
      ],
      "metadata": {
        "id": "q3vvCT3EIf1u"
      },
      "execution_count": 46,
      "outputs": []
    },
    {
      "cell_type": "code",
      "source": [
        "# model = EEGNet(input_shape=(900, 4, 1024, 1), num_classes=1)\n",
        "model = EEGNet2(input_shape=(256, 4, 1), num_classes=1)\n",
        "history = model.compile(loss='binary_crossentropy', optimizer='adam', metrics=['accuracy'])"
      ],
      "metadata": {
        "id": "6o03ajS8vgLm"
      },
      "execution_count": 47,
      "outputs": []
    },
    {
      "cell_type": "code",
      "source": [
        "model.summary()"
      ],
      "metadata": {
        "colab": {
          "base_uri": "https://localhost:8080/"
        },
        "id": "4dGOChfMIwnC",
        "outputId": "20926841-0fa5-4fc3-9f3a-1378de0986cd"
      },
      "execution_count": 48,
      "outputs": [
        {
          "output_type": "stream",
          "name": "stdout",
          "text": [
            "Model: \"model\"\n",
            "_________________________________________________________________\n",
            " Layer (type)                Output Shape              Param #   \n",
            "=================================================================\n",
            " input_1 (InputLayer)        [(None, 256, 4, 1)]       0         \n",
            "                                                                 \n",
            " conv2d (Conv2D)             (None, 256, 4, 16)        1040      \n",
            "                                                                 \n",
            " batch_normalization (BatchN  (None, 256, 4, 16)       64        \n",
            " ormalization)                                                   \n",
            "                                                                 \n",
            " depthwise_conv2d (Depthwise  (None, 128, 2, 16)       48        \n",
            " Conv2D)                                                         \n",
            "                                                                 \n",
            " batch_normalization_1 (Batc  (None, 128, 2, 16)       64        \n",
            " hNormalization)                                                 \n",
            "                                                                 \n",
            " activation (Activation)     (None, 128, 2, 16)        0         \n",
            "                                                                 \n",
            " conv2d_1 (Conv2D)           (None, 128, 2, 32)        16416     \n",
            "                                                                 \n",
            " batch_normalization_2 (Batc  (None, 128, 2, 32)       128       \n",
            " hNormalization)                                                 \n",
            "                                                                 \n",
            " depthwise_conv2d_1 (Depthwi  (None, 64, 1, 64)        192       \n",
            " seConv2D)                                                       \n",
            "                                                                 \n",
            " batch_normalization_3 (Batc  (None, 64, 1, 64)        256       \n",
            " hNormalization)                                                 \n",
            "                                                                 \n",
            " activation_1 (Activation)   (None, 64, 1, 64)         0         \n",
            "                                                                 \n",
            " conv2d_2 (Conv2D)           (None, 64, 1, 32)         32800     \n",
            "                                                                 \n",
            " batch_normalization_4 (Batc  (None, 64, 1, 32)        128       \n",
            " hNormalization)                                                 \n",
            "                                                                 \n",
            " depthwise_conv2d_2 (Depthwi  (None, 32, 1, 128)       384       \n",
            " seConv2D)                                                       \n",
            "                                                                 \n",
            " batch_normalization_5 (Batc  (None, 32, 1, 128)       512       \n",
            " hNormalization)                                                 \n",
            "                                                                 \n",
            " activation_2 (Activation)   (None, 32, 1, 128)        0         \n",
            "                                                                 \n",
            " average_pooling2d (AverageP  (None, 29, 1, 128)       0         \n",
            " ooling2D)                                                       \n",
            "                                                                 \n",
            " flatten (Flatten)           (None, 3712)              0         \n",
            "                                                                 \n",
            " dense (Dense)               (None, 1)                 3713      \n",
            "                                                                 \n",
            "=================================================================\n",
            "Total params: 55,745\n",
            "Trainable params: 55,169\n",
            "Non-trainable params: 576\n",
            "_________________________________________________________________\n"
          ]
        }
      ]
    },
    {
      "cell_type": "markdown",
      "source": [
        "DL+KFold"
      ],
      "metadata": {
        "id": "lc9Xy4v9V6yb"
      }
    },
    {
      "cell_type": "code",
      "source": [
        "from sklearn.model_selection import cross_val_score\n",
        "from sklearn.model_selection import StratifiedKFold\n",
        "from statistics import mean\n",
        "from sklearn.metrics import accuracy_score, precision_recall_fscore_support\n",
        "from sklearn.metrics import confusion_matrix\n",
        "import seaborn as sns\n",
        "from sklearn.metrics import balanced_accuracy_score, accuracy_score, precision_recall_fscore_support"
      ],
      "metadata": {
        "id": "5vaTnJTWtpLP"
      },
      "execution_count": 49,
      "outputs": []
    },
    {
      "cell_type": "code",
      "source": [
        "# Calculate class weights\n",
        "#class_weight = {0: 1, 1: 20}  # Define the class weights manually"
      ],
      "metadata": {
        "id": "rV39XwLZPPP2"
      },
      "execution_count": 49,
      "outputs": []
    },
    {
      "cell_type": "code",
      "source": [
        "cnn_accu_stratified_nm = []\n",
        "cnn_precision_0 = []\n",
        "cnn_precision_1 = []\n",
        "cnn_recall_0 = []\n",
        "cnn_recall_1 = []\n",
        "cnn_f1_0 = []\n",
        "cnn_f1_1 = []\n",
        "models = []\n",
        "fold_num = 1\n",
        "\n",
        "skf = StratifiedKFold(n_splits=10, shuffle=True, random_state=42)\n",
        "\n",
        "for train_index, test_index in skf.split(X_train_reshaped, y_train):\n",
        "\n",
        "    X_train_fold, X_val_fold = X_train_reshaped[train_index], X_train_reshaped[test_index]\n",
        "    y_train_fold, y_val_fold = y_train[train_index], y_train[test_index]\n",
        "\n",
        "    # model = EEGNet(input_shape=(900, 4, 1024, 1), num_classes=1)\n",
        "    model = EEGNet2(input_shape=(256, 4, 1), num_classes=1)\n",
        "    history = model.compile(loss='binary_crossentropy', optimizer='adam', metrics=['accuracy'])\n",
        "\n",
        "    model.fit(X_train_fold, y_train_fold)\n",
        "    y_pred = model.predict(X_val_fold)\n",
        "    y_pred_bin = (y_pred > 0.5).astype(int)\n",
        "\n",
        "    accuracy = accuracy_score(y_val_fold, y_pred_bin)\n",
        "    precision, recall, f1, _ = precision_recall_fscore_support(y_val_fold, y_pred_bin, average=None)\n",
        "\n",
        "    cnn_accu_stratified_nm.append(accuracy)\n",
        "    cnn_precision_0.append(precision[0])\n",
        "    cnn_precision_1.append(precision[1])\n",
        "    cnn_recall_0.append(recall[0])\n",
        "    cnn_recall_1.append(recall[1])\n",
        "    cnn_f1_0.append(f1[0])\n",
        "    cnn_f1_1.append(f1[1])\n",
        "    models.append(model)\n",
        "\n",
        "    print(f\"Fold {fold_num}: Accuracy={accuracy:.4f}, Precision (class 0)={precision[0]:.4f}, Precision (class 1)={precision[1]:.4f}, Recall (class 0)={recall[0]:.4f}, Recall (class 1)={recall[1]:.4f}, F1-score (class 0)={f1[0]:.4f}, F1-score (class 1)={f1[1]:.4f}\")\n",
        "    fold_num += 1\n",
        "\n",
        "print('Maximum Accuracy:', max(cnn_accu_stratified_nm))\n",
        "print('Minimum Accuracy:', min(cnn_accu_stratified_nm))\n",
        "print('Overall Accuracy:', np.mean(cnn_accu_stratified_nm))\n",
        "print('Overall Precision (class 0):', np.mean(cnn_precision_0))\n",
        "print('Overall Precision (class 1):', np.mean(cnn_precision_1))\n",
        "print('Overall Recall (class 0):', np.mean(cnn_recall_0))\n",
        "print('Overall Recall (class 1):', np.mean(cnn_recall_1))\n",
        "print('Overall F1-score (class 0):', np.mean(cnn_f1_0))\n",
        "print('Overall F1-score (class 1):', np.mean(cnn_f1_1))\n"
      ],
      "metadata": {
        "colab": {
          "base_uri": "https://localhost:8080/"
        },
        "id": "IMhNqc-LKUVA",
        "outputId": "b46eff3d-447a-449b-bf71-51a4f4dcc4c3"
      },
      "execution_count": 50,
      "outputs": [
        {
          "output_type": "stream",
          "name": "stdout",
          "text": [
            "288/288 [==============================] - 10s 7ms/step - loss: 0.2120 - accuracy: 0.9274\n",
            "32/32 [==============================] - 0s 5ms/step\n",
            "Fold 1: Accuracy=0.9286, Precision (class 0)=0.9296, Precision (class 1)=0.8571, Recall (class 0)=0.9979, Recall (class 1)=0.1446, F1-score (class 0)=0.9625, F1-score (class 1)=0.2474\n",
            "288/288 [==============================] - 7s 9ms/step - loss: 0.2064 - accuracy: 0.9246\n",
            "32/32 [==============================] - 0s 2ms/step\n",
            "Fold 2: Accuracy=0.9365, Precision (class 0)=0.9388, Precision (class 1)=0.8519, Recall (class 0)=0.9957, Recall (class 1)=0.2738, F1-score (class 0)=0.9664, F1-score (class 1)=0.4144\n",
            "288/288 [==============================] - 6s 6ms/step - loss: 0.2170 - accuracy: 0.9222\n",
            "32/32 [==============================] - 0s 2ms/step\n",
            "Fold 3: Accuracy=0.9277, Precision (class 0)=0.9278, Precision (class 1)=0.9167, Recall (class 0)=0.9989, Recall (class 1)=0.1310, F1-score (class 0)=0.9621, F1-score (class 1)=0.2292\n",
            "288/288 [==============================] - 8s 7ms/step - loss: 0.2087 - accuracy: 0.9234\n",
            "32/32 [==============================] - 0s 2ms/step\n",
            "Fold 4: Accuracy=0.9345, Precision (class 0)=0.9334, Precision (class 1)=1.0000, Recall (class 0)=1.0000, Recall (class 1)=0.2024, F1-score (class 0)=0.9656, F1-score (class 1)=0.3366\n",
            "288/288 [==============================] - 6s 6ms/step - loss: 0.2154 - accuracy: 0.9236\n",
            "32/32 [==============================] - 0s 2ms/step\n",
            "Fold 5: Accuracy=0.9277, Precision (class 0)=0.9286, Precision (class 1)=0.8571, Recall (class 0)=0.9979, Recall (class 1)=0.1429, F1-score (class 0)=0.9620, F1-score (class 1)=0.2449\n",
            "288/288 [==============================] - 8s 6ms/step - loss: 0.2121 - accuracy: 0.9260\n",
            "32/32 [==============================] - 0s 2ms/step\n",
            "Fold 6: Accuracy=0.9208, Precision (class 0)=0.9214, Precision (class 1)=0.8000, Recall (class 0)=0.9989, Recall (class 1)=0.0476, F1-score (class 0)=0.9586, F1-score (class 1)=0.0899\n",
            "288/288 [==============================] - 7s 6ms/step - loss: 0.2082 - accuracy: 0.9207\n",
            "32/32 [==============================] - 0s 2ms/step\n",
            "Fold 7: Accuracy=0.9316, Precision (class 0)=0.9306, Precision (class 1)=1.0000, Recall (class 0)=1.0000, Recall (class 1)=0.1667, F1-score (class 0)=0.9641, F1-score (class 1)=0.2857\n",
            "288/288 [==============================] - 12s 7ms/step - loss: 0.2126 - accuracy: 0.9263\n",
            "32/32 [==============================] - 0s 5ms/step\n",
            "Fold 8: Accuracy=0.9315, Precision (class 0)=0.9349, Precision (class 1)=0.7826, Recall (class 0)=0.9947, Recall (class 1)=0.2169, F1-score (class 0)=0.9639, F1-score (class 1)=0.3396\n",
            "288/288 [==============================] - 8s 6ms/step - loss: 0.2264 - accuracy: 0.9166\n",
            "32/32 [==============================] - 0s 2ms/step\n",
            "Fold 9: Accuracy=0.9256, Precision (class 0)=0.9251, Precision (class 1)=1.0000, Recall (class 0)=1.0000, Recall (class 1)=0.0843, F1-score (class 0)=0.9611, F1-score (class 1)=0.1556\n",
            "288/288 [==============================] - 6s 6ms/step - loss: 0.2276 - accuracy: 0.9227\n",
            "32/32 [==============================] - 0s 2ms/step\n",
            "Fold 10: Accuracy=0.9256, Precision (class 0)=0.9251, Precision (class 1)=1.0000, Recall (class 0)=1.0000, Recall (class 1)=0.0843, F1-score (class 0)=0.9611, F1-score (class 1)=0.1556\n",
            "Maximum Accuracy: 0.9364613880742912\n",
            "Minimum Accuracy: 0.9208211143695014\n",
            "Overall Accuracy: 0.9290110243269766\n",
            "Overall Precision (class 0): 0.929544456512788\n",
            "Overall Precision (class 1): 0.9065412928456407\n",
            "Overall Recall (class 0): 0.9984027824983572\n",
            "Overall Recall (class 1): 0.14944061962134253\n",
            "Overall F1-score (class 0): 0.9627336429603135\n",
            "Overall F1-score (class 1): 0.24988710628277308\n"
          ]
        }
      ]
    },
    {
      "cell_type": "code",
      "source": [
        "model_fold_01=models[0]\n",
        "model_fold_02=models[1]\n",
        "model_fold_03=models[2]\n",
        "model_fold_04=models[3]\n",
        "model_fold_05=models[4]\n",
        "model_fold_06=models[5]\n",
        "model_fold_07=models[6]\n",
        "model_fold_08=models[7]\n",
        "model_fold_09=models[8]\n",
        "model_fold_10=models[9]"
      ],
      "metadata": {
        "id": "FVqS2yZwL9i6"
      },
      "execution_count": 51,
      "outputs": []
    },
    {
      "cell_type": "code",
      "source": [
        "# Obtain predictions on the test data\n",
        "y_pred_test = model_fold_04.predict(X_test_reshaped)\n",
        "y_pred_test_bin = (y_pred_test > 0.5).astype(int)\n",
        "\n",
        "# Evaluate performance metrics on the test data\n",
        "accuracy_test = accuracy_score(y_test, y_pred_test_bin)\n",
        "precision_test, recall_test, f1_test, _ = precision_recall_fscore_support(y_test, y_pred_test_bin, average=None)\n",
        "\n",
        "print(f\"Test set: Accuracy={accuracy_test:.4f}, Precision (class 0)={precision_test[0]:.4f}, Precision (class 1)={precision_test[1]:.4f}, Recall (class 0)={recall_test[0]:.4f}, Recall (class 1)={recall_test[1]:.4f}, F1-score (class 0)={f1_test[0]:.4f}, F1-score (class 1)={f1_test[1]:.4f}\")\n"
      ],
      "metadata": {
        "colab": {
          "base_uri": "https://localhost:8080/"
        },
        "outputId": "cf4f08a0-81ac-4f07-b5ab-90a487e98e9f",
        "id": "g9ijmJ46njUg"
      },
      "execution_count": 52,
      "outputs": [
        {
          "output_type": "stream",
          "name": "stdout",
          "text": [
            "100/100 [==============================] - 1s 11ms/step\n",
            "Test set: Accuracy=0.9287, Precision (class 0)=0.9291, Precision (class 1)=0.9020, Recall (class 0)=0.9983, Recall (class 1)=0.1710, F1-score (class 0)=0.9625, F1-score (class 1)=0.2875\n"
          ]
        }
      ]
    },
    {
      "cell_type": "code",
      "source": [
        "accuracy_score(y_test, y_pred_test_bin)"
      ],
      "metadata": {
        "colab": {
          "base_uri": "https://localhost:8080/"
        },
        "id": "SjwRL7OHZVlV",
        "outputId": "635bfd84-af97-4b3a-fe39-8c347684a028"
      },
      "execution_count": 57,
      "outputs": [
        {
          "output_type": "execute_result",
          "data": {
            "text/plain": [
              "0.8976846057571964"
            ]
          },
          "metadata": {},
          "execution_count": 57
        }
      ]
    },
    {
      "cell_type": "code",
      "source": [
        "y_test"
      ],
      "metadata": {
        "colab": {
          "base_uri": "https://localhost:8080/"
        },
        "id": "oE0LFp9zQJSm",
        "outputId": "87e7ee70-aa57-421b-e3da-74b5faa72f42"
      },
      "execution_count": 58,
      "outputs": [
        {
          "output_type": "execute_result",
          "data": {
            "text/plain": [
              "array([0, 0, 0, ..., 0, 0, 0])"
            ]
          },
          "metadata": {},
          "execution_count": 58
        }
      ]
    },
    {
      "cell_type": "code",
      "source": [
        "y_pred_test_bin"
      ],
      "metadata": {
        "colab": {
          "base_uri": "https://localhost:8080/"
        },
        "id": "O3Gq5SiRP80C",
        "outputId": "daffcbaf-2fa4-4f77-e2b6-0d47a9e3d42f"
      },
      "execution_count": 59,
      "outputs": [
        {
          "output_type": "execute_result",
          "data": {
            "text/plain": [
              "array([[0],\n",
              "       [0],\n",
              "       [0],\n",
              "       ...,\n",
              "       [0],\n",
              "       [0],\n",
              "       [1]])"
            ]
          },
          "metadata": {},
          "execution_count": 59
        }
      ]
    },
    {
      "cell_type": "code",
      "source": [
        "from sklearn.metrics import confusion_matrix"
      ],
      "metadata": {
        "id": "gA1IwieIQQH-"
      },
      "execution_count": 53,
      "outputs": []
    },
    {
      "cell_type": "code",
      "source": [
        "tn, fp, fn, tp = confusion_matrix(y_test, y_pred_test_bin).ravel()\n",
        "\n",
        "print(\"True Negative:\", tn)\n",
        "print(\"False Positive:\", fp)\n",
        "print(\"False Negative:\", fn)\n",
        "print(\"True Positive:\", tp)"
      ],
      "metadata": {
        "colab": {
          "base_uri": "https://localhost:8080/"
        },
        "id": "1Tc_olAWQT7z",
        "outputId": "f7ceca0d-30b5-4849-86a2-419a6720567d"
      },
      "execution_count": 54,
      "outputs": [
        {
          "output_type": "stream",
          "name": "stdout",
          "text": [
            "True Negative: 2922\n",
            "False Positive: 5\n",
            "False Negative: 223\n",
            "True Positive: 46\n"
          ]
        }
      ]
    },
    {
      "cell_type": "code",
      "source": [
        "confusion_matrix(y_test, y_pred_test_bin)"
      ],
      "metadata": {
        "colab": {
          "base_uri": "https://localhost:8080/"
        },
        "id": "5414i8c_R8gi",
        "outputId": "42bd5b0c-2dc0-4536-fa44-9863806bed23"
      },
      "execution_count": 55,
      "outputs": [
        {
          "output_type": "execute_result",
          "data": {
            "text/plain": [
              "array([[2922,    5],\n",
              "       [ 223,   46]])"
            ]
          },
          "metadata": {},
          "execution_count": 55
        }
      ]
    },
    {
      "cell_type": "code",
      "source": [
        "from sklearn.metrics import confusion_matrix, ConfusionMatrixDisplay"
      ],
      "metadata": {
        "id": "f72iMOLmSztg"
      },
      "execution_count": 57,
      "outputs": []
    },
    {
      "cell_type": "code",
      "source": [
        "cm = confusion_matrix(y_test, y_pred_test_bin)\n",
        "disp = ConfusionMatrixDisplay(confusion_matrix=cm)\n",
        "disp.plot()\n",
        "\n",
        "plt.show()"
      ],
      "metadata": {
        "colab": {
          "base_uri": "https://localhost:8080/",
          "height": 449
        },
        "id": "x2J04BbKS8Ej",
        "outputId": "a696a39f-8b89-4a80-e5d2-cbc1c86925e4"
      },
      "execution_count": 58,
      "outputs": [
        {
          "output_type": "display_data",
          "data": {
            "text/plain": [
              "<Figure size 640x480 with 2 Axes>"
            ],
            "image/png": "[encoded data removed]"
          },
          "metadata": {}
        }
      ]
    },
    {
      "cell_type": "code",
      "source": [
        "import numpy as np\n",
        "\n",
        "# Assuming you have your training data in X_train and the corresponding labels in y_train\n",
        "\n",
        "# Convert labels to NumPy array if necessary\n",
        "y_train = np.array(y_train)\n",
        "\n",
        "# Count occurrences of each class\n",
        "class_counts = np.bincount(y_train)\n",
        "\n",
        "# Assuming class 0 is represented by label 0 and class 1 is represented by label 1\n",
        "count_class_0 = class_counts[0]\n",
        "count_class_1 = class_counts[1]\n",
        "\n",
        "print(\"Number of samples in class 0:\", count_class_0)\n",
        "print(\"Number of samples in class 1:\", count_class_1)\n"
      ],
      "metadata": {
        "colab": {
          "base_uri": "https://localhost:8080/"
        },
        "id": "bXhmSerVU-_W",
        "outputId": "d4f37a8d-d659-4460-becb-5fec4e7c2f77"
      },
      "execution_count": 62,
      "outputs": [
        {
          "output_type": "stream",
          "name": "stdout",
          "text": [
            "Number of samples in class 0: 9391\n",
            "Number of samples in class 1: 836\n"
          ]
        }
      ]
    },
    {
      "cell_type": "code",
      "source": [
        "import numpy as np\n",
        "\n",
        "# Assuming you have your testing data in X_test and the corresponding labels in y_test\n",
        "\n",
        "# Convert labels to NumPy array if necessary\n",
        "y_test = np.array(y_test)\n",
        "\n",
        "# Count occurrences of each class\n",
        "class_counts = np.bincount(y_test)\n",
        "\n",
        "# Assuming class 0 is represented by label 0 and class 1 is represented by label 1\n",
        "count_class_0 = class_counts[0]\n",
        "count_class_1 = class_counts[1]\n",
        "\n",
        "print(\"Number of samples in class 0:\", count_class_0)\n",
        "print(\"Number of samples in class 1:\", count_class_1)\n"
      ],
      "metadata": {
        "colab": {
          "base_uri": "https://localhost:8080/"
        },
        "id": "zPu_Uen5VHEN",
        "outputId": "2fc46885-30d0-45c2-ad49-37828918f6e1"
      },
      "execution_count": 63,
      "outputs": [
        {
          "output_type": "stream",
          "name": "stdout",
          "text": [
            "Number of samples in class 0: 2927\n",
            "Number of samples in class 1: 269\n"
          ]
        }
      ]
    },
    {
      "cell_type": "code",
      "source": [
        "from sklearn.metrics import precision_recall_curve, average_precision_score\n",
        "\n",
        "# Obtain predictions on the test data\n",
        "y_pred_test = model_fold_04.predict(X_test_reshaped)\n",
        "y_pred_test_bin = (y_pred_test > 0.5).astype(int)\n",
        "\n",
        "# Calculate precision, recall, and thresholds for precision-recall curve\n",
        "precision, recall, thresholds = precision_recall_curve(y_test, y_pred_test)\n",
        "\n",
        "# Calculate the average precision score\n",
        "avg_precision = average_precision_score(y_test, y_pred_test)\n",
        "\n",
        "# Plot the precision-recall curve\n",
        "plt.figure()\n",
        "plt.plot(recall, precision, color='green', lw=2, label='Precision-Recall Curve (Avg Precision = {:.2f})'.format(avg_precision))\n",
        "plt.xlabel('Recall')\n",
        "plt.ylabel('Precision')\n",
        "plt.title('Precision-Recall Curve')\n",
        "plt.legend(loc=\"lower right\")\n",
        "plt.show()\n"
      ],
      "metadata": {
        "colab": {
          "base_uri": "https://localhost:8080/",
          "height": 489
        },
        "id": "AGu-lPylYfgD",
        "outputId": "c9caa584-cee9-43f0-d4ad-d02dc5421a37"
      },
      "execution_count": 59,
      "outputs": [
        {
          "output_type": "stream",
          "name": "stdout",
          "text": [
            "100/100 [==============================] - 0s 4ms/step\n"
          ]
        },
        {
          "output_type": "display_data",
          "data": {
            "text/plain": [
              "<Figure size 640x480 with 1 Axes>"
            ],
            "image/png": "[encoded data removed]"
          },
          "metadata": {}
        }
      ]
    },
    {
      "cell_type": "code",
      "source": [
        "from sklearn.metrics import roc_curve, auc\n",
        "\n",
        "# Obtain predictions on the test data\n",
        "y_pred_test = model_fold_04.predict(X_test_reshaped)\n",
        "y_pred_test_bin = (y_pred_test > 0.5).astype(int)\n",
        "\n",
        "# Calculate false positive rate, true positive rate, and thresholds for ROC curve\n",
        "fpr, tpr, thresholds = roc_curve(y_test, y_pred_test)\n",
        "\n",
        "# Calculate the area under the ROC curve\n",
        "roc_auc = auc(fpr, tpr)\n",
        "\n",
        "# Plot the ROC curve\n",
        "plt.figure()\n",
        "plt.plot(fpr, tpr, color='darkorange', lw=2, label='ROC curve (area = {:.2f})'.format(roc_auc))\n",
        "plt.plot([0, 1], [0, 1], color='navy', lw=2, linestyle='--')\n",
        "plt.xlim([0.0, 1.0])\n",
        "plt.ylim([0.0, 1.05])\n",
        "plt.xlabel('False Positive Rate')\n",
        "plt.ylabel('True Positive Rate')\n",
        "plt.title('Receiver Operating Characteristic (ROC)')\n",
        "plt.legend(loc=\"lower right\")\n",
        "plt.show()\n"
      ],
      "metadata": {
        "colab": {
          "base_uri": "https://localhost:8080/",
          "height": 489
        },
        "id": "NiAFGFxrvzkp",
        "outputId": "bd9bf402-e641-4fbe-c654-33833af7f98d"
      },
      "execution_count": 60,
      "outputs": [
        {
          "output_type": "stream",
          "name": "stdout",
          "text": [
            "100/100 [==============================] - 0s 4ms/step\n"
          ]
        },
        {
          "output_type": "display_data",
          "data": {
            "text/plain": [
              "<Figure size 640x480 with 1 Axes>"
            ],
            "image/png": "[encoded data removed]"
          },
          "metadata": {}
        }
      ]
    },
    {
      "cell_type": "code",
      "source": [
        "# Save the model\n",
        "model_fold_04.save(\"/content/drive/MyDrive/Hanna/imbalanced_model_fold_04.h5\")\n"
      ],
      "metadata": {
        "id": "K-GJHTWVut2z"
      },
      "execution_count": 61,
      "outputs": []
    }
  ]
}